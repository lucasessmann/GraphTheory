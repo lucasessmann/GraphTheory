{
 "cells": [
  {
   "cell_type": "markdown",
   "metadata": {},
   "source": [
    "# Path Difficulty Notebook\n",
    "### Aim:\n",
    "* Calculating a value of difficulty for the Westbrück Pathfinding Task"
   ]
  },
  {
   "cell_type": "code",
   "execution_count": 6,
   "metadata": {},
   "outputs": [],
   "source": [
    "# Instantiating variables\n",
    "def difficulty_calculator(length,decision_points,start_landmark_level,target_landmark_level,shortcuts):\n",
    "    \"\"\"\n",
    "    Calculating the path difficulty.\n",
    "    \n",
    "    Args:\n",
    "        length: the time it takes to run the shortest path (seconds as integer)\n",
    "        decision_points: Amount of decision points (i.e. crossings) between the houses\n",
    "        start_landmark_level: Ranking level of the start house \n",
    "            (1 = one of the four main landmarks, 5 = no landmark at all)\n",
    "        target_landmark_level: Ranking level of the target house \n",
    "            (1 = one of the four main landmarks, 5 = no landmark at all)\n",
    "        shortcuts: Amount of possible shortcuts that could be taken\n",
    "    \n",
    "    Returns:\n",
    "        integer: The difficulty of the path, the higher the more difficult.\n",
    "    \"\"\"\n",
    "    difficulty_level = 0.1*length + decision_points + start_landmark_level + target_landmark_level + shortcuts\n",
    "    \n",
    "    return difficulty_level"
   ]
  },
  {
   "cell_type": "markdown",
   "metadata": {},
   "source": [
    "## Testing:\n",
    "* Testing the formula by using two test houses\n",
    "    * Firstly, the windmill to the house 'chatelaudren-filter-shop-1-france_mesh' \n",
    "    * Secondly, house 'chatelaudren-filter-shop-1-france_mesh' to house 'troyes-house-3-france_mesh"
   ]
  },
  {
   "cell_type": "code",
   "execution_count": 7,
   "metadata": {},
   "outputs": [
    {
     "name": "stdout",
     "output_type": "stream",
     "text": [
      "Path 1 difficulty level is: 23.9\n",
      "Path 2 difficulty level is: 23.2\n"
     ]
    }
   ],
   "source": [
    "# First path \n",
    "length = 69 # seconds on shortest path with maximum movement speed\n",
    "decision_points = 8 \n",
    "start_landmark_level = 1 # very clear landmark candidate\n",
    "target_landmark_level = 4 # not likely a landmark candidate\n",
    "shortcuts = 4 # 4 possible shortcuts on the shortests paths\n",
    "\n",
    "path1_diff = difficulty_calculator(length,decision_points,start_landmark_level,target_landmark_level,shortcuts)\n",
    "\n",
    "# Second path\n",
    "length = 42 # seconds on shortest path with maximum movement speed\n",
    "decision_points = 7\n",
    "start_landmark_level = 4 # very clear landmark candidate\n",
    "target_landmark_level = 5 # no landmark whatsoever\n",
    "shortcuts = 3 # 4 possible shortcuts on the shortests paths\n",
    "\n",
    "path2_diff = difficulty_calculator(length,decision_points,start_landmark_level,target_landmark_level,shortcuts)\n",
    "\n",
    "print(\"Path 1 difficulty level is: {}\".format(path1_diff))\n",
    "print(\"Path 2 difficulty level is: {}\".format(path2_diff))\n"
   ]
  }
 ],
 "metadata": {
  "kernelspec": {
   "display_name": "Python 3",
   "language": "python",
   "name": "python3"
  },
  "language_info": {
   "codemirror_mode": {
    "name": "ipython",
    "version": 3
   },
   "file_extension": ".py",
   "mimetype": "text/x-python",
   "name": "python",
   "nbconvert_exporter": "python",
   "pygments_lexer": "ipython3",
   "version": "3.6.11"
  }
 },
 "nbformat": 4,
 "nbformat_minor": 4
}
