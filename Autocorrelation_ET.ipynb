{
 "cells": [
  {
   "cell_type": "markdown",
   "metadata": {},
   "source": [
    "# Autocorrelation of Eye Tracking Data\n",
    "This notebook calculates the autocorrelation of raw eye tracking data. \n",
    "\n",
    "Objectives:\n",
    "* Autocorrelation plot showing time points with especially high correlation within the time series of data"
   ]
  },
  {
   "cell_type": "markdown",
   "metadata": {},
   "source": [
    "## Configuration"
   ]
  },
  {
   "cell_type": "code",
   "execution_count": null,
   "metadata": {},
   "outputs": [],
   "source": [
    "# General configuration\n",
    "import os\n",
    "\n",
    "# data_directory: str\n",
    "#     Path to a directory to store data.\n",
    "data_directory = '.'\n",
    "\n",
    "# install_missing_packages: bool\n",
    "#     A flag indicating if missing packages should be automatically installed\n",
    "install_missing_packages = True\n",
    "\n",
    "# use_conda: bool\n",
    "#     A flag indicating if conda should be used for software installation.\n",
    "#     If False, pip will be used. The default is to use conda if jupyter\n",
    "#     is run in a conda environment.\n",
    "use_conda = 'CONDA_EXE' in os.environ"
   ]
  },
  {
   "cell_type": "markdown",
   "metadata": {},
   "source": [
    "### Check for missing packages"
   ]
  },
  {
   "cell_type": "code",
   "execution_count": null,
   "metadata": {},
   "outputs": [],
   "source": [
    "import importlib\n",
    "\n",
    "def check_package(package, pip_pkg: str = None, conda_pkg: str = None):\n",
    "    \"\"\"Check if a given package is installed. If missing install\n",
    "    it (if global flag `install_missing_packages` is True) either with\n",
    "    pip or with conda (depending on `use_conda`).\n",
    "    \"\"\"\n",
    "    if importlib.util.find_spec(package) is not None:\n",
    "        return  # ok, package is already installed\n",
    "\n",
    "    if not install_missing_packages:\n",
    "        raise RuntimeError(f\"{package} is not installed!\")\n",
    "\n",
    "    if use_conda:\n",
    "        import conda.cli\n",
    "        conda.cli.main('conda', 'install',  '-y', conda_pkg or package)\n",
    "    else:\n",
    "        import subprocess\n",
    "        import sys            \n",
    "        subprocess.check_call([sys.executable, '-m', 'pip', 'install', pip_pkg or package])\n",
    "        \n",
    "# This is to exit cells without error tracebacks (cosmetic purpose)\n",
    "class StopExecution(Exception):\n",
    "    def _render_traceback_(self):\n",
    "        pass"
   ]
  },
  {
   "cell_type": "markdown",
   "metadata": {},
   "source": [
    "## Requirements\n",
    "\n",
    "To run all of this notebook, you need the following libraries to be installed:\n",
    "* ImageIO (`imageio` and `imageio-ffmpeg`): for reading images and accessing the webcam\n",
    "* Scikit-image (`scikit-image`) for some image manipulation\n",
    "* MatPlotLib (`matplotlib`): mainly for displaying images in the notebook\n",
    "* Dlib (`dlib`) providing the HOG face detector\n",
    "* OpenCV (`opencv`) for real time applications\n",
    "* Imutils (`imutils`) for image manipulation with OpenCV\n",
    "\n",
    "Running the following cell will create a file `graphs.yml` that can be used to setup a conda environment containing the required packages. If you already downloaded the file from my GitHub, skip the next cell and create the env directly from it.\n"
   ]
  },
  {
   "cell_type": "code",
   "execution_count": null,
   "metadata": {},
   "outputs": [],
   "source": [
    "%%writefile graphs.yml\n",
    "name: graphs\n",
    "channels:\n",
    "  - conda-forge\n",
    "  - defaults\n",
    "dependencies:\n",
    "  - python=3.6\n",
    "  - jupyter\n",
    "  - imageio\n",
    "  - imageio-ffmpeg\n",
    "  - matplotlib\n",
    "  - scikit-image\n",
    "  - opencv\n",
    "  - networkx\n",
    "  - pandas\n",
    "  - statsmodels"
   ]
  },
  {
   "cell_type": "markdown",
   "metadata": {},
   "source": [
    "### Environment Creation\n",
    "\n",
    "To create the environment, open the. terminal, go to the directory where you stored the graphs.yml file (the directory of the notebook) and type\n",
    "```sh\n",
    "conda env create -f graphs.yml\n",
    "```\n",
    "After running this command you have to activate the environment (Linux/MacOS: `conda activate graphs`, Windows: `activate graphs`) and then reopen the notebook in that environment."
   ]
  },
  {
   "cell_type": "markdown",
   "metadata": {},
   "source": [
    "# Main part\n",
    "### Imports and directory definition\n",
    "The data directory is adjusted to the folder arrangedment of the github repo. Adjust if necessary."
   ]
  },
  {
   "cell_type": "code",
   "execution_count": null,
   "metadata": {},
   "outputs": [],
   "source": [
    "import numpy as np\n",
    "import cv2 \n",
    "import matplotlib.pyplot as plt\n",
    "import pandas as pd\n",
    "import networkx as nX\n",
    "import glob\n",
    "from pandas.plotting import autocorrelation_plot as AC_plot \n",
    "from statsmodels.graphics import tsaplots\n",
    "from statsmodels.tsa.stattools import acf\n",
    "from skimage.filters import gaussian\n",
    "\n",
    "\n",
    "\n",
    "OG_DATA_PATH = './'\n",
    "DATA_PATH = './EyeBoxPos/'\n",
    "PROCESSED_DATA_PATH = './Results/Autocorrelation/'"
   ]
  },
  {
   "cell_type": "markdown",
   "metadata": {},
   "source": [
    "## Autocorrelation Part\n",
    "\n",
    "### Loading\n",
    "* Loading in the viewing coordinates (EyePosBox) consisting of X,Y, and Z coordinates.\n",
    "\n",
    "### Calculation\n",
    "* Using the statsmodels acf autocorrelation function to calculate the autocorrelation for every time shift of the coordinate series (for each coordinate separately).\n",
    "* I save these into a table.\n",
    "\n",
    "### Plotting\n",
    "* Plotting the autocorrelation plot of (1) each coordinate separately and (2) the mean of coordinate correlations on top of each other.\n",
    "\n",
    "### Saving\n",
    "* Saving the plot and autocorrelation table. "
   ]
  },
  {
   "cell_type": "code",
   "execution_count": null,
   "metadata": {
    "scrolled": false
   },
   "outputs": [],
   "source": [
    "df = pd.concat(map(pd.read_csv,glob.glob(DATA_PATH + '/*.txt')))"
   ]
  },
  {
   "cell_type": "code",
   "execution_count": null,
   "metadata": {
    "scrolled": false
   },
   "outputs": [],
   "source": [
    "# Loading the first data to test the script\n",
    "data = pd.read_csv(DATA_PATH + 'EyeBoxPos_VP1996.txt', names=['X','Y','Z']) \n",
    "\n",
    "# Removing the unwanted brackets from the data\n",
    "data['X'] =  data['X'].apply(lambda x: x.replace('(','').replace(')','')) \n",
    "data['X'] = data['X'].astype('float')\n",
    "data['Z'] =  data['Z'].apply(lambda x: x.replace('(','').replace(')','')) \n",
    "data['Z'] = data['Z'].astype('float')\n",
    "\n",
    "data['time'] = data.index*0.03/60.0\n",
    "\n",
    "data[:]\n",
    "\n",
    "\n",
    "labels = ['X','Y','Z','mean']\n",
    "\n",
    "#plot autocorrelation function\n",
    "autoc_X = acf(data['X'],nlags=len(data['X'])-1)\n",
    "autoc_Y = acf(data['Y'],nlags=len(data['Y'])-1)\n",
    "autoc_Z = acf(data['Z'],nlags=len(data['Z'])-1)\n",
    "\n",
    "start = 1\n",
    "upperX = np.max(data['time'])\n",
    "lowerX = np.min(data['time'])\n",
    "upperY = np.max([autoc_X[start::],autoc_Y[start::],autoc_Z[start::]])\\\n",
    "                + 0.1*np.max([autoc_X[start::],autoc_Y[start::],autoc_Z[start::]])\n",
    "lowerY = np.min([autoc_X[start::],autoc_Y[start::],autoc_Z[start::]])\\\n",
    "                - 0.1*np.max([autoc_X[start::],autoc_Y[start::],autoc_Z[start::]])\n",
    "\n",
    "\n",
    "# Plotting \n",
    "if(autoc_X.size == autoc_Y.size == autoc_Z.size):\n",
    "    plt.figure(figsize=(15,15))\n",
    "    plt.plot(data['time'],autoc_X,ls=':',c='b',Linewidth=0.5)\n",
    "    plt.plot(data['time'],autoc_Y,ls=':',c='g',Linewidth=0.5)\n",
    "    plt.plot(data['time'],autoc_Z,ls=':',c='r',Linewidth=0.5)\n",
    "    plt.plot(data['time'],(autoc_X+autoc_Y+autoc_Z)/3,'k',Linewidth=2)\n",
    "    plt.xlim([lowerX,upperX])\n",
    "    plt.ylim([lowerY,upperY])\n",
    "    plt.xlabel('Time (min)',fontsize=20)\n",
    "    plt.ylabel('Correlation',fontsize=20)\n",
    "    plt.legend(labels,fontsize=20,markerscale=10)\n",
    "else:\n",
    "    disp('The sizes of autocorrelation array do not match')\n",
    "    \n"
   ]
  }
 ],
 "metadata": {
  "kernelspec": {
   "display_name": "Python 3",
   "language": "python",
   "name": "python3"
  },
  "language_info": {
   "codemirror_mode": {
    "name": "ipython",
    "version": 3
   },
   "file_extension": ".py",
   "mimetype": "text/x-python",
   "name": "python",
   "nbconvert_exporter": "python",
   "pygments_lexer": "ipython3",
   "version": "3.6.11"
  }
 },
 "nbformat": 4,
 "nbformat_minor": 4
}
