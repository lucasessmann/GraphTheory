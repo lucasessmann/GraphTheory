{
 "cells": [
  {
   "cell_type": "markdown",
   "metadata": {},
   "source": [
    "# Autocorrelation of Eye Tracking Data\n",
    "This notebook calculates the autocorrelation of raw eye tracking data. \n",
    "\n",
    "Objectives:\n",
    "* Autocorrelation plot showing time points with especially high correlation within the time series of data"
   ]
  },
  {
   "cell_type": "markdown",
   "metadata": {},
   "source": [
    "## Configuration"
   ]
  },
  {
   "cell_type": "code",
   "execution_count": 1,
   "metadata": {},
   "outputs": [],
   "source": [
    "# General configuration\n",
    "import os\n",
    "\n",
    "# data_directory: str\n",
    "#     Path to a directory to store data.\n",
    "data_directory = '.'\n",
    "\n",
    "# install_missing_packages: bool\n",
    "#     A flag indicating if missing packages should be automatically installed\n",
    "install_missing_packages = True\n",
    "\n",
    "# use_conda: bool\n",
    "#     A flag indicating if conda should be used for software installation.\n",
    "#     If False, pip will be used. The default is to use conda if jupyter\n",
    "#     is run in a conda environment.\n",
    "use_conda = 'CONDA_EXE' in os.environ"
   ]
  },
  {
   "cell_type": "markdown",
   "metadata": {},
   "source": [
    "### Check for missing packages"
   ]
  },
  {
   "cell_type": "code",
   "execution_count": 2,
   "metadata": {},
   "outputs": [],
   "source": [
    "import importlib\n",
    "\n",
    "def check_package(package, pip_pkg: str = None, conda_pkg: str = None):\n",
    "    \"\"\"Check if a given package is installed. If missing install\n",
    "    it (if global flag `install_missing_packages` is True) either with\n",
    "    pip or with conda (depending on `use_conda`).\n",
    "    \"\"\"\n",
    "    if importlib.util.find_spec(package) is not None:\n",
    "        return  # ok, package is already installed\n",
    "\n",
    "    if not install_missing_packages:\n",
    "        raise RuntimeError(f\"{package} is not installed!\")\n",
    "\n",
    "    if use_conda:\n",
    "        import conda.cli\n",
    "        conda.cli.main('conda', 'install',  '-y', conda_pkg or package)\n",
    "    else:\n",
    "        import subprocess\n",
    "        import sys            \n",
    "        subprocess.check_call([sys.executable, '-m', 'pip', 'install', pip_pkg or package])\n",
    "        \n",
    "# This is to exit cells without error tracebacks (cosmetic purpose)\n",
    "class StopExecution(Exception):\n",
    "    def _render_traceback_(self):\n",
    "        pass"
   ]
  },
  {
   "cell_type": "markdown",
   "metadata": {},
   "source": [
    "## Requirements\n",
    "\n",
    "To run all of this notebook, you need the following libraries to be installed:\n",
    "* ImageIO (`imageio` and `imageio-ffmpeg`): for reading images and accessing the webcam\n",
    "* Scikit-image (`scikit-image`) for some image manipulation\n",
    "* MatPlotLib (`matplotlib`): mainly for displaying images in the notebook\n",
    "* Dlib (`dlib`) providing the HOG face detector\n",
    "* OpenCV (`opencv`) for real time applications\n",
    "* Imutils (`imutils`) for image manipulation with OpenCV\n",
    "\n",
    "Running the following cell will create a file `graphs.yml` that can be used to setup a conda environment containing the required packages. If you already downloaded the file from my GitHub, skip the next cell and create the env directly from it.\n"
   ]
  },
  {
   "cell_type": "code",
   "execution_count": 1,
   "metadata": {},
   "outputs": [
    {
     "name": "stdout",
     "output_type": "stream",
     "text": [
      "Overwriting graphs.yml\n"
     ]
    }
   ],
   "source": [
    "%%writefile graphs.yml\n",
    "name: graphs\n",
    "channels:\n",
    "  - conda-forge\n",
    "  - defaults\n",
    "dependencies:\n",
    "  - python=3.6\n",
    "  - jupyter\n",
    "  - imageio\n",
    "  - imageio-ffmpeg\n",
    "  - matplotlib\n",
    "  - scikit-image\n",
    "  - opencv\n",
    "  - networkx\n",
    "  - pandas"
   ]
  },
  {
   "cell_type": "markdown",
   "metadata": {},
   "source": [
    "## Environment Creation\n",
    "\n",
    "To create the environment, open the. terminal, go to the directory where you stored the graphs.yml file (the directory of the notebook) and type\n",
    "```sh\n",
    "conda env create -f graphs.yml\n",
    "```\n",
    "Remember that after running this command you have to activate the environment (Linux/MacOS: `conda activate face_norm`, Windows: `activate face_norm`) and then reopen the notebook in that environment."
   ]
  },
  {
   "cell_type": "code",
   "execution_count": 3,
   "metadata": {},
   "outputs": [],
   "source": [
    "import numpy as np\n",
    "import cv2 \n",
    "import matplotlib.pyplot as plt\n",
    "import pandas as pd\n",
    "from pandas.plotting import autocorrelation_plot as AC_plot \n",
    "import networkx as nX\n",
    "\n",
    "OG_DATA_PATH = './'\n",
    "# PLOTS_PATH = './Sabine_poster/map/'\n",
    "DATA_PATH = './EyeBoxPos/'\n",
    "PROCESSED_DATA_PATH = './Results/Autocorrelation/'"
   ]
  },
  {
   "cell_type": "code",
   "execution_count": 65,
   "metadata": {},
   "outputs": [
    {
     "data": {
      "text/html": [
       "<div>\n",
       "<style scoped>\n",
       "    .dataframe tbody tr th:only-of-type {\n",
       "        vertical-align: middle;\n",
       "    }\n",
       "\n",
       "    .dataframe tbody tr th {\n",
       "        vertical-align: top;\n",
       "    }\n",
       "\n",
       "    .dataframe thead th {\n",
       "        text-align: right;\n",
       "    }\n",
       "</style>\n",
       "<table border=\"1\" class=\"dataframe\">\n",
       "  <thead>\n",
       "    <tr style=\"text-align: right;\">\n",
       "      <th></th>\n",
       "      <th>X</th>\n",
       "      <th>Y</th>\n",
       "      <th>Z</th>\n",
       "    </tr>\n",
       "    <tr>\n",
       "      <th>time</th>\n",
       "      <th></th>\n",
       "      <th></th>\n",
       "      <th></th>\n",
       "    </tr>\n",
       "  </thead>\n",
       "  <tbody>\n",
       "    <tr>\n",
       "      <th>0.0000</th>\n",
       "      <td>422.40290</td>\n",
       "      <td>-13.60316</td>\n",
       "      <td>891.8898</td>\n",
       "    </tr>\n",
       "    <tr>\n",
       "      <th>0.0005</th>\n",
       "      <td>422.41970</td>\n",
       "      <td>-13.56038</td>\n",
       "      <td>891.9304</td>\n",
       "    </tr>\n",
       "    <tr>\n",
       "      <th>0.0010</th>\n",
       "      <td>422.41440</td>\n",
       "      <td>-13.35254</td>\n",
       "      <td>891.9498</td>\n",
       "    </tr>\n",
       "    <tr>\n",
       "      <th>0.0015</th>\n",
       "      <td>422.41590</td>\n",
       "      <td>-13.32038</td>\n",
       "      <td>891.9532</td>\n",
       "    </tr>\n",
       "    <tr>\n",
       "      <th>0.0020</th>\n",
       "      <td>422.49460</td>\n",
       "      <td>-13.45451</td>\n",
       "      <td>891.9565</td>\n",
       "    </tr>\n",
       "    <tr>\n",
       "      <th>...</th>\n",
       "      <td>...</td>\n",
       "      <td>...</td>\n",
       "      <td>...</td>\n",
       "    </tr>\n",
       "    <tr>\n",
       "      <th>27.2740</th>\n",
       "      <td>121.40650</td>\n",
       "      <td>25.47238</td>\n",
       "      <td>732.8135</td>\n",
       "    </tr>\n",
       "    <tr>\n",
       "      <th>27.2745</th>\n",
       "      <td>119.41990</td>\n",
       "      <td>25.02592</td>\n",
       "      <td>734.2310</td>\n",
       "    </tr>\n",
       "    <tr>\n",
       "      <th>27.2750</th>\n",
       "      <td>0.00000</td>\n",
       "      <td>0.00000</td>\n",
       "      <td>0.0000</td>\n",
       "    </tr>\n",
       "    <tr>\n",
       "      <th>27.2755</th>\n",
       "      <td>0.00000</td>\n",
       "      <td>0.00000</td>\n",
       "      <td>0.0000</td>\n",
       "    </tr>\n",
       "    <tr>\n",
       "      <th>27.2760</th>\n",
       "      <td>94.02867</td>\n",
       "      <td>17.94023</td>\n",
       "      <td>763.9987</td>\n",
       "    </tr>\n",
       "  </tbody>\n",
       "</table>\n",
       "<p>54553 rows × 3 columns</p>\n",
       "</div>"
      ],
      "text/plain": [
       "                 X         Y         Z\n",
       "time                                  \n",
       "0.0000   422.40290 -13.60316  891.8898\n",
       "0.0005   422.41970 -13.56038  891.9304\n",
       "0.0010   422.41440 -13.35254  891.9498\n",
       "0.0015   422.41590 -13.32038  891.9532\n",
       "0.0020   422.49460 -13.45451  891.9565\n",
       "...            ...       ...       ...\n",
       "27.2740  121.40650  25.47238  732.8135\n",
       "27.2745  119.41990  25.02592  734.2310\n",
       "27.2750    0.00000   0.00000    0.0000\n",
       "27.2755    0.00000   0.00000    0.0000\n",
       "27.2760   94.02867  17.94023  763.9987\n",
       "\n",
       "[54553 rows x 3 columns]"
      ]
     },
     "execution_count": 65,
     "metadata": {},
     "output_type": "execute_result"
    }
   ],
   "source": [
    "# Loading the first data to test the script\n",
    "test_data = pd.read_csv(DATA_PATH + 'EyeBoxPos_VP1012.txt', names=['X','Y','Z']) \n",
    "\n",
    "# Removing the unwanted brackets from the data\n",
    "test_data['X'] =  test_data['X'].apply(lambda x: x.replace('(','').replace(')','')) \n",
    "test_data['X'] = test_data['X'].astype('float')\n",
    "test_data['Z'] =  test_data['Z'].apply(lambda x: x.replace('(','').replace(')','')) \n",
    "test_data['Z'] = test_data['Z'].astype('float')\n",
    "\n",
    "test_data['time'] = test_data.index*0.03/60.0\n",
    "\n",
    "test_data = test_data.set_index('time')\n",
    "\n",
    "test_data[:]\n"
   ]
  },
  {
   "cell_type": "code",
   "execution_count": 94,
   "metadata": {
    "scrolled": false
   },
   "outputs": [
    {
     "data": {
      "text/plain": [
       "(array([-10,  -9,  -8,  -7,  -6,  -5,  -4,  -3,  -2,  -1,   0,   1,   2,\n",
       "          3,   4,   5,   6,   7,   8,   9,  10]),\n",
       " array([0.90098663, 0.9022043 , 0.90331396, 0.9040383 , 0.90542258,\n",
       "        0.90713866, 0.90913801, 0.91469012, 0.92250921, 0.94330536,\n",
       "        1.        , 0.94330536, 0.92250921, 0.91469012, 0.90913801,\n",
       "        0.90713866, 0.90542258, 0.9040383 , 0.90331396, 0.9022043 ,\n",
       "        0.90098663]),\n",
       " <matplotlib.collections.LineCollection at 0x7fc521791a58>,\n",
       " <matplotlib.lines.Line2D at 0x7fc50e9b0630>)"
      ]
     },
     "execution_count": 94,
     "metadata": {},
     "output_type": "execute_result"
    },
    {
     "data": {
      "image/png": "[encoded data removed]",
      "text/plain": [
       "<Figure size 1440x1440 with 3 Axes>"
      ]
     },
     "metadata": {
      "needs_background": "light"
     },
     "output_type": "display_data"
    }
   ],
   "source": [
    "#plt.figure(figsize=(15,15))\n",
    "#ax = AC_plot(test_data[0])\n",
    "#ax = AC_plot(test_data[1])\n",
    "#ax = AC_plot(test_data[2])\n",
    "#ax.set_xticklabels(test_data['time'])\n",
    "\n",
    "fig, axes = plt.subplots(nrows=3,ncols=1,figsize=(20,20))\n",
    "#plt.subplot(3,1,1)\n",
    "#axes[0] = AC_plot(test_data['X'])\n",
    "#plt.subplot(3,1,2)\n",
    "axes[0].autocorrelation(test_data['X'])\n",
    "axes[1].acorr(test_data['Y'])\n",
    "axes[2].acorr(test_data['Z'])\n",
    "#plot(AC_plot(test_data['Y'])  # = AC_plot(test_data['Y'])\n",
    "#plt.subplot(3,1,3)\n",
    "#axes[2] =  AC_plot(test_data['Z'])\n",
    "#ax.set_xticklabels('time')#"
   ]
  },
  {
   "cell_type": "code",
   "execution_count": 83,
   "metadata": {},
   "outputs": [
    {
     "data": {
      "text/plain": [
       "array([[<AxesSubplot:xlabel='Lag', ylabel='Autocorrelation'>],\n",
       "       [<AxesSubplot:xlabel='Lag', ylabel='Autocorrelation'>],\n",
       "       [<AxesSubplot:xlabel='Lag', ylabel='Autocorrelation'>]],\n",
       "      dtype=object)"
      ]
     },
     "execution_count": 83,
     "metadata": {},
     "output_type": "execute_result"
    }
   ],
   "source": [
    "axes"
   ]
  }
 ],
 "metadata": {
  "kernelspec": {
   "display_name": "Python 3",
   "language": "python",
   "name": "python3"
  },
  "language_info": {
   "codemirror_mode": {
    "name": "ipython",
    "version": 3
   },
   "file_extension": ".py",
   "mimetype": "text/x-python",
   "name": "python",
   "nbconvert_exporter": "python",
   "pygments_lexer": "ipython3",
   "version": "3.6.11"
  }
 },
 "nbformat": 4,
 "nbformat_minor": 4
}
